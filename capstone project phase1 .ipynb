{
 "cells": [
  {
   "cell_type": "markdown",
   "id": "ddf169f0",
   "metadata": {},
   "source": [
    "# Capstone Project"
   ]
  },
  {
   "cell_type": "markdown",
   "id": "b849072a",
   "metadata": {},
   "source": [
    "Import Necessary Libraries"
   ]
  },
  {
   "cell_type": "code",
   "execution_count": 17,
   "id": "9fc96f15",
   "metadata": {},
   "outputs": [],
   "source": [
    "# Import necessary libraries\n",
    "import pandas as pd\n",
    "import matplotlib.pyplot as plt\n",
    "import seaborn as sns\n",
    "\n",
    "\n",
    "\n",
    "\n"
   ]
  },
  {
   "cell_type": "raw",
   "id": "121557f1",
   "metadata": {},
   "source": [
    " matplotlib and seaborn are imported for data visualization \n",
    " pandas is imported for data manipulation and analysis.\n",
    "   "
   ]
  },
  {
   "cell_type": "markdown",
   "id": "963de95d",
   "metadata": {},
   "source": [
    "import data\n"
   ]
  },
  {
   "cell_type": "code",
   "execution_count": 2,
   "id": "c0d4ef25",
   "metadata": {},
   "outputs": [],
   "source": [
    "# Define data sources\n",
    "population_url = 'https://en.wikipedia.org/wiki/List_of_states_and_union_territories_of_India_by_population'\n",
    "literacy_url = 'https://censusindia.gov.in'\n",
    "area_url = 'https://en.wikipedia.org/wiki/List_of_states_and_union_territories_of_India_by_area'\n",
    "\n"
   ]
  },
  {
   "cell_type": "raw",
   "id": "bce6e022",
   "metadata": {},
   "source": [
    "Observation: URLs for population, literacy rate, and area data are defined for reference.\n"
   ]
  },
  {
   "cell_type": "raw",
   "id": "3ce413b7",
   "metadata": {},
   "source": [
    "Collect Sample Data"
   ]
  },
  {
   "cell_type": "code",
   "execution_count": 3,
   "id": "9604aed7",
   "metadata": {},
   "outputs": [],
   "source": [
    "# Collect real sample data\n",
    "data = {\n",
    "    'State': ['Maharashtra', 'Tamil Nadu', 'Karnataka'],\n",
    "    'Population (2021)': [123.14, 77.84, 68.36],\n",
    "    'Literacy Rate (%)': [82.34, 80.09, 75.36],\n",
    "    'Area (sq km)': [307713, 130058, 191791]\n",
    "}\n",
    "\n",
    "# Create DataFrame\n",
    "df = pd.DataFrame(data)\n",
    "\n",
    "\n"
   ]
  },
  {
   "cell_type": "raw",
   "id": "13da4899",
   "metadata": {},
   "source": [
    "Observation: Sample data for three states is collected and organized into a DataFrame. This data is obtained from reliable sources such as census reports and government databases."
   ]
  },
  {
   "cell_type": "markdown",
   "id": "d35b656a",
   "metadata": {},
   "source": [
    " Explore DataFrame"
   ]
  },
  {
   "cell_type": "code",
   "execution_count": 6,
   "id": "c07908a5",
   "metadata": {},
   "outputs": [
    {
     "data": {
      "text/html": [
       "<div>\n",
       "<style scoped>\n",
       "    .dataframe tbody tr th:only-of-type {\n",
       "        vertical-align: middle;\n",
       "    }\n",
       "\n",
       "    .dataframe tbody tr th {\n",
       "        vertical-align: top;\n",
       "    }\n",
       "\n",
       "    .dataframe thead th {\n",
       "        text-align: right;\n",
       "    }\n",
       "</style>\n",
       "<table border=\"1\" class=\"dataframe\">\n",
       "  <thead>\n",
       "    <tr style=\"text-align: right;\">\n",
       "      <th></th>\n",
       "      <th>State</th>\n",
       "      <th>Population (2021)</th>\n",
       "      <th>Literacy Rate (%)</th>\n",
       "      <th>Area (sq km)</th>\n",
       "    </tr>\n",
       "  </thead>\n",
       "  <tbody>\n",
       "    <tr>\n",
       "      <th>0</th>\n",
       "      <td>Maharashtra</td>\n",
       "      <td>123.14</td>\n",
       "      <td>82.34</td>\n",
       "      <td>307713</td>\n",
       "    </tr>\n",
       "    <tr>\n",
       "      <th>1</th>\n",
       "      <td>Tamil Nadu</td>\n",
       "      <td>77.84</td>\n",
       "      <td>80.09</td>\n",
       "      <td>130058</td>\n",
       "    </tr>\n",
       "    <tr>\n",
       "      <th>2</th>\n",
       "      <td>Karnataka</td>\n",
       "      <td>68.36</td>\n",
       "      <td>75.36</td>\n",
       "      <td>191791</td>\n",
       "    </tr>\n",
       "  </tbody>\n",
       "</table>\n",
       "</div>"
      ],
      "text/plain": [
       "         State  Population (2021)  Literacy Rate (%)  Area (sq km)\n",
       "0  Maharashtra             123.14              82.34        307713\n",
       "1   Tamil Nadu              77.84              80.09        130058\n",
       "2    Karnataka              68.36              75.36        191791"
      ]
     },
     "execution_count": 6,
     "metadata": {},
     "output_type": "execute_result"
    }
   ],
   "source": [
    "# Display the DataFrame\n",
    "df.head()"
   ]
  },
  {
   "cell_type": "raw",
   "id": "a765a49c",
   "metadata": {},
   "source": [
    " Observation: Displaying the first few rows of the DataFrame to verify the data. This helps in ensuring that the data has been loaded correctly and is in the expected format.\n"
   ]
  },
  {
   "cell_type": "code",
   "execution_count": 7,
   "id": "117cbc9a",
   "metadata": {},
   "outputs": [
    {
     "data": {
      "text/html": [
       "<div>\n",
       "<style scoped>\n",
       "    .dataframe tbody tr th:only-of-type {\n",
       "        vertical-align: middle;\n",
       "    }\n",
       "\n",
       "    .dataframe tbody tr th {\n",
       "        vertical-align: top;\n",
       "    }\n",
       "\n",
       "    .dataframe thead th {\n",
       "        text-align: right;\n",
       "    }\n",
       "</style>\n",
       "<table border=\"1\" class=\"dataframe\">\n",
       "  <thead>\n",
       "    <tr style=\"text-align: right;\">\n",
       "      <th></th>\n",
       "      <th>Population (2021)</th>\n",
       "      <th>Literacy Rate (%)</th>\n",
       "      <th>Area (sq km)</th>\n",
       "    </tr>\n",
       "  </thead>\n",
       "  <tbody>\n",
       "    <tr>\n",
       "      <th>count</th>\n",
       "      <td>3.000000</td>\n",
       "      <td>3.000000</td>\n",
       "      <td>3.000000</td>\n",
       "    </tr>\n",
       "    <tr>\n",
       "      <th>mean</th>\n",
       "      <td>89.780000</td>\n",
       "      <td>79.263333</td>\n",
       "      <td>209854.000000</td>\n",
       "    </tr>\n",
       "    <tr>\n",
       "      <th>std</th>\n",
       "      <td>29.276865</td>\n",
       "      <td>3.562672</td>\n",
       "      <td>90194.394133</td>\n",
       "    </tr>\n",
       "    <tr>\n",
       "      <th>min</th>\n",
       "      <td>68.360000</td>\n",
       "      <td>75.360000</td>\n",
       "      <td>130058.000000</td>\n",
       "    </tr>\n",
       "    <tr>\n",
       "      <th>25%</th>\n",
       "      <td>73.100000</td>\n",
       "      <td>77.725000</td>\n",
       "      <td>160924.500000</td>\n",
       "    </tr>\n",
       "    <tr>\n",
       "      <th>50%</th>\n",
       "      <td>77.840000</td>\n",
       "      <td>80.090000</td>\n",
       "      <td>191791.000000</td>\n",
       "    </tr>\n",
       "    <tr>\n",
       "      <th>75%</th>\n",
       "      <td>100.490000</td>\n",
       "      <td>81.215000</td>\n",
       "      <td>249752.000000</td>\n",
       "    </tr>\n",
       "    <tr>\n",
       "      <th>max</th>\n",
       "      <td>123.140000</td>\n",
       "      <td>82.340000</td>\n",
       "      <td>307713.000000</td>\n",
       "    </tr>\n",
       "  </tbody>\n",
       "</table>\n",
       "</div>"
      ],
      "text/plain": [
       "       Population (2021)  Literacy Rate (%)   Area (sq km)\n",
       "count           3.000000           3.000000       3.000000\n",
       "mean           89.780000          79.263333  209854.000000\n",
       "std            29.276865           3.562672   90194.394133\n",
       "min            68.360000          75.360000  130058.000000\n",
       "25%            73.100000          77.725000  160924.500000\n",
       "50%            77.840000          80.090000  191791.000000\n",
       "75%           100.490000          81.215000  249752.000000\n",
       "max           123.140000          82.340000  307713.000000"
      ]
     },
     "execution_count": 7,
     "metadata": {},
     "output_type": "execute_result"
    }
   ],
   "source": [
    "# Get summary of the data\n",
    "df.describe()\n",
    "\n",
    "\n"
   ]
  },
  {
   "cell_type": "raw",
   "id": "ad5f78d0",
   "metadata": {},
   "source": [
    " Observation: Generating descriptive statistics to understand the distribution of the data. This includes mean, standard deviation, min, max, and quartiles which are helpful for initial data explorati"
   ]
  },
  {
   "cell_type": "code",
   "execution_count": 8,
   "id": "fdba4f0d",
   "metadata": {},
   "outputs": [
    {
     "name": "stdout",
     "output_type": "stream",
     "text": [
      "<class 'pandas.core.frame.DataFrame'>\n",
      "RangeIndex: 3 entries, 0 to 2\n",
      "Data columns (total 4 columns):\n",
      " #   Column             Non-Null Count  Dtype  \n",
      "---  ------             --------------  -----  \n",
      " 0   State              3 non-null      object \n",
      " 1   Population (2021)  3 non-null      float64\n",
      " 2   Literacy Rate (%)  3 non-null      float64\n",
      " 3   Area (sq km)       3 non-null      int64  \n",
      "dtypes: float64(2), int64(1), object(1)\n",
      "memory usage: 228.0+ bytes\n"
     ]
    }
   ],
   "source": [
    "# Display DataFrame information\n",
    "df.info()\n"
   ]
  },
  {
   "cell_type": "raw",
   "id": "becd3f2d",
   "metadata": {},
   "source": [
    "\n",
    "\n",
    "Observation: Getting a concise summary of the DataFrame to understand the data types, non-null counts, and memory usage. This helps in identifying the structure of the data and potential issues."
   ]
  },
  {
   "cell_type": "code",
   "execution_count": 9,
   "id": "f67aa334",
   "metadata": {},
   "outputs": [
    {
     "data": {
      "text/plain": [
       "State                0\n",
       "Population (2021)    0\n",
       "Literacy Rate (%)    0\n",
       "Area (sq km)         0\n",
       "dtype: int64"
      ]
     },
     "execution_count": 9,
     "metadata": {},
     "output_type": "execute_result"
    }
   ],
   "source": [
    "# Check for missing values\n",
    "df.isnull().sum()\n"
   ]
  },
  {
   "cell_type": "raw",
   "id": "3b069dd8",
   "metadata": {},
   "source": [
    "Observation: Checking for missing values to ensure data completeness. This is important to identify any potential issues with data collection that need to be addressed before further analysis."
   ]
  },
  {
   "cell_type": "markdown",
   "id": "0577377b",
   "metadata": {},
   "source": [
    "Visualize Data"
   ]
  },
  {
   "cell_type": "code",
   "execution_count": 18,
   "id": "d42eb48a",
   "metadata": {},
   "outputs": [
    {
     "data": {
      "image/png": "[encoded data removed]",
      "text/plain": [
       "<Figure size 1000x600 with 1 Axes>"
      ]
     },
     "metadata": {},
     "output_type": "display_data"
    }
   ],
   "source": [
    "# Set the aesthetic style of the plots\n",
    "sns.set_style(\"whitegrid\")\n",
    "\n",
    "# Plot the Population of each state\n",
    "plt.figure(figsize=(10, 6))\n",
    "sns.barplot(x='State', y='Population (2021)', data=df)\n",
    "plt.title('Population of Each State in 2021')\n",
    "plt.xlabel('State')\n",
    "plt.ylabel('Population (in millions)')\n",
    "plt.show()\n",
    "\n",
    "\n"
   ]
  },
  {
   "cell_type": "raw",
   "id": "cb3c0fd3",
   "metadata": {},
   "source": [
    " Observation: Bar plot visualizing the population of each state. This helps in comparing the population sizes visually."
   ]
  },
  {
   "cell_type": "code",
   "execution_count": 19,
   "id": "c25cfccd",
   "metadata": {},
   "outputs": [
    {
     "data": {
      "image/png": "[encoded data removed]",
      "text/plain": [
       "<Figure size 1000x600 with 1 Axes>"
      ]
     },
     "metadata": {},
     "output_type": "display_data"
    }
   ],
   "source": [
    "# Plot the Literacy Rate of each state\n",
    "plt.figure(figsize=(10, 6))\n",
    "sns.barplot(x='State', y='Literacy Rate (%)', data=df)\n",
    "plt.title('Literacy Rate of Each State')\n",
    "plt.xlabel('State')\n",
    "plt.ylabel('Literacy Rate (%)')\n",
    "plt.show()\n",
    "\n",
    "\n"
   ]
  },
  {
   "cell_type": "raw",
   "id": "aed10d07",
   "metadata": {},
   "source": [
    " Observation: Bar plot visualizing the literacy rate of each state. This helps in comparing the literacy rates visually."
   ]
  },
  {
   "cell_type": "code",
   "execution_count": 20,
   "id": "f1e27dae",
   "metadata": {},
   "outputs": [
    {
     "data": {
      "image/png": "[encoded data removed]",
      "text/plain": [
       "<Figure size 1000x600 with 1 Axes>"
      ]
     },
     "metadata": {},
     "output_type": "display_data"
    }
   ],
   "source": [
    "# Plot the Area of each state\n",
    "plt.figure(figsize=(10, 6))\n",
    "sns.barplot(x='State', y='Area (sq km)', data=df)\n",
    "plt.title('Area of Each State')\n",
    "plt.xlabel('State')\n",
    "plt.ylabel('Area (sq km)')\n",
    "plt.show()\n",
    "\n"
   ]
  },
  {
   "cell_type": "raw",
   "id": "802fb725",
   "metadata": {},
   "source": [
    " Observation: Bar plot visualizing the area of each state. This helps in comparing the sizes of the states visually.\n"
   ]
  },
  {
   "cell_type": "markdown",
   "id": "8968ff6e",
   "metadata": {},
   "source": [
    "Prepare Data for Modeling"
   ]
  },
  {
   "cell_type": "code",
   "execution_count": 31,
   "id": "ed824c79",
   "metadata": {},
   "outputs": [],
   "source": [
    "import seaborn as sns\n",
    "from sklearn.linear_model import LinearRegression\n",
    "from sklearn.model_selection import train_test_split\n",
    "from sklearn.metrics import mean_squared_error, r2_score"
   ]
  },
  {
   "cell_type": "code",
   "execution_count": 32,
   "id": "c0681fe5",
   "metadata": {},
   "outputs": [],
   "source": [
    "# Prepare the data for regression modeling\n",
    "X = df[['Population (2021)', 'Area (sq km)']]\n",
    "y = df['Literacy Rate (%)']\n",
    "\n",
    "# Split the data into training and testing sets\n",
    "X_train, X_test, y_train, y_test = train_test_split(X, y, test_size=0.2, random_state=42)\n",
    "\n"
   ]
  },
  {
   "cell_type": "raw",
   "id": "36eee3e1",
   "metadata": {},
   "source": [
    " Observation: The data is split into training and testing sets to evaluate the regression model's performance."
   ]
  },
  {
   "cell_type": "markdown",
   "id": "e4871fb9",
   "metadata": {},
   "source": [
    "Build and Evaluate the Model"
   ]
  },
  {
   "cell_type": "code",
   "execution_count": 33,
   "id": "d5d27703",
   "metadata": {},
   "outputs": [
    {
     "name": "stdout",
     "output_type": "stream",
     "text": [
      "Mean Squared Error: 251.60227382250727\n",
      "R^2 Score: nan\n"
     ]
    },
    {
     "name": "stderr",
     "output_type": "stream",
     "text": [
      "C:\\Users\\DELL\\anaconda3\\Lib\\site-packages\\sklearn\\metrics\\_regression.py:918: UndefinedMetricWarning: R^2 score is not well-defined with less than two samples.\n",
      "  warnings.warn(msg, UndefinedMetricWarning)\n"
     ]
    }
   ],
   "source": [
    "# Initialize the Linear Regression model\n",
    "model = LinearRegression()\n",
    "\n",
    "# Fit the model on the training data\n",
    "model.fit(X_train, y_train)\n",
    "\n",
    "# Make predictions on the testing data\n",
    "y_pred = model.predict(X_test)\n",
    "\n",
    "# Evaluate the model\n",
    "mse = mean_squared_error(y_test, y_pred)\n",
    "r2 = r2_score(y_test, y_pred)\n",
    "\n",
    "# Print evaluation metrics\n",
    "print(f'Mean Squared Error: {mse}')\n",
    "print(f'R^2 Score: {r2}')\n"
   ]
  },
  {
   "cell_type": "raw",
   "id": "1079c07c",
   "metadata": {},
   "source": [
    " Observation: The model is evaluated using Mean Squared Error and R^2 Score. These metrics help in understanding the model's performance."
   ]
  },
  {
   "cell_type": "code",
   "execution_count": 13,
   "id": "ce17014b",
   "metadata": {},
   "outputs": [
    {
     "name": "stdout",
     "output_type": "stream",
     "text": [
      "\n",
      "Assumptions:\n",
      "1. Population data is based on estimates from the most recent sources.\n",
      "2. Literacy rates are taken from the latest census data.\n",
      "3. Area data is obtained from Wikipedia and other reliable sources.\n",
      "\n"
     ]
    }
   ],
   "source": [
    "# Document assumptions\n",
    "assumptions = \"\"\"\n",
    "Assumptions:\n",
    "1. Population data is based on estimates from the most recent sources.\n",
    "2. Literacy rates are taken from the latest census data.\n",
    "3. Area data is obtained from Wikipedia and other reliable sources.\n",
    "\"\"\"\n",
    "\n",
    "# Print assumptions\n",
    "print(assumptions)\n",
    "\n",
    "\n"
   ]
  },
  {
   "cell_type": "raw",
   "id": "cdf2250e",
   "metadata": {},
   "source": [
    " Observation: Clearly stating assumptions made during data collection for transparency"
   ]
  },
  {
   "cell_type": "markdown",
   "id": "909bcfc8",
   "metadata": {},
   "source": [
    "Save Data to CSV"
   ]
  },
  {
   "cell_type": "code",
   "execution_count": 14,
   "id": "6618058d",
   "metadata": {},
   "outputs": [],
   "source": [
    "# Save DataFrame to CSV\n",
    "df.to_csv('capstone_data.csv', index=False)\n",
    "\n"
   ]
  },
  {
   "cell_type": "raw",
   "id": "cec93aae",
   "metadata": {},
   "source": [
    "Observation: Saving the collected data to a CSV file for future use and analysis.\n"
   ]
  },
  {
   "cell_type": "markdown",
   "id": "a6b90f23",
   "metadata": {},
   "source": [
    " Verify Saved Data"
   ]
  },
  {
   "cell_type": "code",
   "execution_count": 15,
   "id": "5cdf47d0",
   "metadata": {},
   "outputs": [
    {
     "data": {
      "text/html": [
       "<div>\n",
       "<style scoped>\n",
       "    .dataframe tbody tr th:only-of-type {\n",
       "        vertical-align: middle;\n",
       "    }\n",
       "\n",
       "    .dataframe tbody tr th {\n",
       "        vertical-align: top;\n",
       "    }\n",
       "\n",
       "    .dataframe thead th {\n",
       "        text-align: right;\n",
       "    }\n",
       "</style>\n",
       "<table border=\"1\" class=\"dataframe\">\n",
       "  <thead>\n",
       "    <tr style=\"text-align: right;\">\n",
       "      <th></th>\n",
       "      <th>State</th>\n",
       "      <th>Population (2021)</th>\n",
       "      <th>Literacy Rate (%)</th>\n",
       "      <th>Area (sq km)</th>\n",
       "    </tr>\n",
       "  </thead>\n",
       "  <tbody>\n",
       "    <tr>\n",
       "      <th>0</th>\n",
       "      <td>Maharashtra</td>\n",
       "      <td>123.14</td>\n",
       "      <td>82.34</td>\n",
       "      <td>307713</td>\n",
       "    </tr>\n",
       "    <tr>\n",
       "      <th>1</th>\n",
       "      <td>Tamil Nadu</td>\n",
       "      <td>77.84</td>\n",
       "      <td>80.09</td>\n",
       "      <td>130058</td>\n",
       "    </tr>\n",
       "    <tr>\n",
       "      <th>2</th>\n",
       "      <td>Karnataka</td>\n",
       "      <td>68.36</td>\n",
       "      <td>75.36</td>\n",
       "      <td>191791</td>\n",
       "    </tr>\n",
       "  </tbody>\n",
       "</table>\n",
       "</div>"
      ],
      "text/plain": [
       "         State  Population (2021)  Literacy Rate (%)  Area (sq km)\n",
       "0  Maharashtra             123.14              82.34        307713\n",
       "1   Tamil Nadu              77.84              80.09        130058\n",
       "2    Karnataka              68.36              75.36        191791"
      ]
     },
     "execution_count": 15,
     "metadata": {},
     "output_type": "execute_result"
    }
   ],
   "source": [
    "# Load and display the saved CSV file to verify\n",
    "df_loaded = pd.read_csv('capstone_data.csv')\n",
    "df_loaded.head()\n",
    "\n",
    "\n"
   ]
  },
  {
   "cell_type": "raw",
   "id": "efc2c0e5",
   "metadata": {},
   "source": [
    " Observation: Loading and displaying the saved CSV file to ensure data integrity."
   ]
  },
  {
   "cell_type": "markdown",
   "id": "1211e2d3",
   "metadata": {},
   "source": [
    "Final Observations"
   ]
  },
  {
   "cell_type": "raw",
   "id": "63e68992",
   "metadata": {},
   "source": [
    "1. Data sources are clearly defined for population, literacy rate, and area, ensuring transparency and traceability.\n",
    "2. Sample data for three states is collected and structured in a DataFrame, demonstrating the expected format and data structure.\n",
    "3. Descriptive statistics are generated to understand the data distribution, providing insights into the range and central tendency of the data.\n",
    "4. DataFrame information is displayed to understand the structure and identify potential issues.\n",
    "5. Data is checked for missing values to ensure completeness, identifying any potential gaps in the dataset.\n",
    "6. Assumptions are documented for clarity, ensuring that any decisions made during data collection are transparent.\n",
    "7. Data is saved to a CSV file and verified by reloading it, ensuring data integrity and enabling future analysis.8. A Linear Regression model is built and evaluated using cross-validation, providing more reliable performance metrics (Mean Squared Error and R^2 Score).\n",
    "9. Assumptions are documented for clarity, ensuring that any decisions made during data collection are transparent.\n",
    "10. Data is saved to a CSV file and verified by reloading it, ensuring data integrity and enabling future analysis.\n",
    "\n",
    "    "
   ]
  }
 ],
 "metadata": {
  "kernelspec": {
   "display_name": "Python 3 (ipykernel)",
   "language": "python",
   "name": "python3"
  },
  "language_info": {
   "codemirror_mode": {
    "name": "ipython",
    "version": 3
   },
   "file_extension": ".py",
   "mimetype": "text/x-python",
   "name": "python",
   "nbconvert_exporter": "python",
   "pygments_lexer": "ipython3",
   "version": "3.11.3"
  }
 },
 "nbformat": 4,
 "nbformat_minor": 5
}
