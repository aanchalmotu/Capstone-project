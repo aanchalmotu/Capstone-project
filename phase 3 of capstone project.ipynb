{
 "cells": [
  {
   "cell_type": "markdown",
   "id": "daa7c2f4",
   "metadata": {},
   "source": [
    "# SQL OPERATIONS"
   ]
  },
  {
   "cell_type": "code",
   "execution_count": 1,
   "id": "1cdc3065",
   "metadata": {},
   "outputs": [],
   "source": [
    "import sqlite3\n",
    "import pandas as pd\n",
    "\n",
    "# Create a connection to the database\n",
    "conn = sqlite3.connect('crime_data.db')\n",
    "cursor = conn.cursor()\n"
   ]
  },
  {
   "cell_type": "raw",
   "id": "e7119915",
   "metadata": {},
   "source": [
    "Observation:\n",
    "Establishing a connection to an SQLite database named crime_data.db using Python's sqlite3 module and creating a cursor to interact with the database.\n",
    "This input sets up the infrastructure necessary to execute SQL queries and operations on the crime_data.db database. The 'conn' variable represents the connection object, allowing us to perform actions like querying tables, inserting data, or updating records within the database.\n",
    "Having a database connection and cursor is essential for managing and manipulating data stored in SQLite databases, facilitating seamless interaction between Python code and database operation"
   ]
  },
  {
   "cell_type": "markdown",
   "id": "e86867cc",
   "metadata": {},
   "source": [
    "3.1\t        Insert records from 42_District_wise_crimes_committed_against_women_2001_2012.csv into a table."
   ]
  },
  {
   "cell_type": "code",
   "execution_count": 2,
   "id": "bed3125d",
   "metadata": {},
   "outputs": [
    {
     "name": "stdout",
     "output_type": "stream",
     "text": [
      "Data inserted successfully into crimes_against_women table.\n"
     ]
    }
   ],
   "source": [
    "# Load the CSV file\n",
    "file_path_women = 'C:\\\\Users\\\\DELL\\\\Downloads\\\\India_Crime -Zip\\\\India_Crime - Copy\\\\42_District_wise_crimes_committed_against_women_2001_2012.csv'\n",
    "df_women = pd.read_csv(file_path_women)\n",
    "\n",
    "# Create the table\n",
    "df_women.to_sql('crimes_against_women', conn, if_exists='replace', index=False)\n",
    "\n",
    "print(\"Data inserted successfully into crimes_against_women table.\")\n"
   ]
  },
  {
   "cell_type": "raw",
   "id": "116c10c1",
   "metadata": {},
   "source": [
    "I successfully inserted records from the 42_District_wise_crimes_committed_against_women_2001_2012.csv file into a new SQLite table named crimes_against_women. This table now holds data on various crimes committed against women across different districts, states, and years."
   ]
  },
  {
   "cell_type": "markdown",
   "id": "8208148a",
   "metadata": {},
   "source": [
    "Inspecting Column Names"
   ]
  },
  {
   "cell_type": "code",
   "execution_count": 4,
   "id": "0d48c528",
   "metadata": {},
   "outputs": [
    {
     "name": "stdout",
     "output_type": "stream",
     "text": [
      "Index(['STATE/UT', 'DISTRICT', 'Year', 'Rape', 'Kidnapping and Abduction',\n",
      "       'Dowry Deaths', 'Assault on women with intent to outrage her modesty',\n",
      "       'Insult to modesty of Women', 'Cruelty by Husband or his Relatives',\n",
      "       'Importation of Girls'],\n",
      "      dtype='object')\n"
     ]
    }
   ],
   "source": [
    "# Load the CSV file again to check column names\n",
    "df_women = pd.read_csv(file_path_women)\n",
    "print(df_women.columns)\n"
   ]
  },
  {
   "cell_type": "raw",
   "id": "a9c3f26a",
   "metadata": {},
   "source": [
    "Observation:\n",
    "Loading the CSV file file_path_women into a Pandas DataFrame (df_women) to check the column names present in the dataset.\n",
    "This operation aims to verify the structure of the dataset by examining the column names. This step is crucial for understanding the available data fields and planning subsequent data processing or analysis tasks."
   ]
  },
  {
   "cell_type": "markdown",
   "id": "2db0705d",
   "metadata": {},
   "source": [
    "3.2\tWrite SQL query to find the highest number of rapes & Kidnappings that happened in which state, District, and year."
   ]
  },
  {
   "cell_type": "code",
   "execution_count": 5,
   "id": "4f50da3a",
   "metadata": {},
   "outputs": [
    {
     "name": "stdout",
     "output_type": "stream",
     "text": [
      "         State_UT DISTRICT  Year  Max_Rape\n",
      "0  MADHYA PRADESH    TOTAL  2012      3425\n",
      "        State_UT DISTRICT  Year  Max_Kidnapping\n",
      "0  UTTAR PRADESH    TOTAL  2012            7910\n"
     ]
    }
   ],
   "source": [
    "# Assuming the actual column names are 'STATE_UT', 'DISTRICT', 'YEAR', 'RAPE', 'KIDNAPPING_AND_ABDUCTION'\n",
    "query_rapes = \"\"\"\n",
    "SELECT \"STATE/UT\" as State_UT, DISTRICT, YEAR, MAX(RAPE) as Max_Rape\n",
    "FROM crimes_against_women\n",
    "GROUP BY \"STATE/UT\", DISTRICT, YEAR\n",
    "ORDER BY Max_Rape DESC\n",
    "LIMIT 1\n",
    "\"\"\"\n",
    "max_rapes = pd.read_sql_query(query_rapes, conn)\n",
    "print(max_rapes)\n",
    "\n",
    "query_kidnappings = \"\"\"\n",
    "SELECT \"STATE/UT\" as State_UT, DISTRICT, YEAR, MAX(\"KIDNAPPING AND ABDUCTION\") as Max_Kidnapping\n",
    "FROM crimes_against_women\n",
    "GROUP BY \"STATE/UT\", DISTRICT, YEAR\n",
    "ORDER BY Max_Kidnapping DESC\n",
    "LIMIT 1\n",
    "\"\"\"\n",
    "max_kidnappings = pd.read_sql_query(query_kidnappings, conn)\n",
    "print(max_kidnappings)\n"
   ]
  },
  {
   "cell_type": "raw",
   "id": "58112ee0",
   "metadata": {},
   "source": [
    "Observation:\n",
    "I executed a query to determine the state, district, and year with the highest number of rapes and kidnappings. This allows us to identify the locations and periods with the most severe instances of these crimes, highlighting areas that may require more focused interventions and policy changes.\n",
    "\n",
    "Results:\n",
    "\n",
    "Rapes: The highest number of rapes was recorded in [State_UT], [District], [Year] with [Max_Rape] incidents.\n",
    "Kidnappings: The highest number of kidnappings occurred in [State_UT], [District], [Year] with [Max_Kidnapping] incidents."
   ]
  },
  {
   "cell_type": "markdown",
   "id": "4c29011b",
   "metadata": {},
   "source": [
    "3.3\tWrite SQL query to find All the lowest number of rapes & Kidnappings that happened in which state, District, and year.\n",
    "\n"
   ]
  },
  {
   "cell_type": "code",
   "execution_count": 6,
   "id": "9f130a09",
   "metadata": {},
   "outputs": [
    {
     "name": "stdout",
     "output_type": "stream",
     "text": [
      "        State_UT DISTRICT  Year  Min_Rape\n",
      "0  A & N ISLANDS      CAR  2012         0\n",
      "        State_UT DISTRICT  Year  Min_Kidnapping\n",
      "0  A & N ISLANDS  NICOBAR  2001               0\n"
     ]
    }
   ],
   "source": [
    "query_min_rapes = \"\"\"\n",
    "SELECT \"STATE/UT\" as State_UT, DISTRICT, YEAR, MIN(RAPE) as Min_Rape\n",
    "FROM crimes_against_women\n",
    "GROUP BY \"STATE/UT\", DISTRICT, YEAR\n",
    "ORDER BY Min_Rape ASC\n",
    "LIMIT 1\n",
    "\"\"\"\n",
    "min_rapes = pd.read_sql_query(query_min_rapes, conn)\n",
    "print(min_rapes)\n",
    "\n",
    "query_min_kidnappings = \"\"\"\n",
    "SELECT \"STATE/UT\" as State_UT, DISTRICT, YEAR, MIN(\"KIDNAPPING AND ABDUCTION\") as Min_Kidnapping\n",
    "FROM crimes_against_women\n",
    "GROUP BY \"STATE/UT\", DISTRICT, YEAR\n",
    "ORDER BY Min_Kidnapping ASC\n",
    "LIMIT 1\n",
    "\"\"\"\n",
    "min_kidnappings = pd.read_sql_query(query_min_kidnappings, conn)\n",
    "print(min_kidnappings)\n"
   ]
  },
  {
   "cell_type": "raw",
   "id": "29e382fb",
   "metadata": {},
   "source": [
    "Observation:\n",
    " executed a query to find the state, district, and year with the lowest number of rapes and kidnappings. This helps in understanding regions and periods with relatively lower incidences of these crimes, potentially indicating effective local measures or unique circumstances.\n",
    "\n",
    "Results:\n",
    "\n",
    "Rapes: The lowest number of rapes was recorded in [State_UT], [District], [Year] with [Min_Rape] incidents.\n",
    "Kidnappings: The lowest number of kidnappings occurred in [State_UT], [District], [Year] with [Min_Kidnapping] incidents."
   ]
  },
  {
   "cell_type": "markdown",
   "id": "4e43940e",
   "metadata": {},
   "source": [
    "\n",
    "3.4\tInsert records from 02_District_wise_crimes_committed_against_ST_2001_2012.csv into a new table\n",
    "\n"
   ]
  },
  {
   "cell_type": "code",
   "execution_count": 7,
   "id": "795cec41",
   "metadata": {
    "scrolled": true
   },
   "outputs": [
    {
     "name": "stdout",
     "output_type": "stream",
     "text": [
      "Index(['STATE/UT', 'DISTRICT', 'Year', 'Murder', 'Rape',\n",
      "       'Kidnapping Abduction', 'Dacoity', 'Robbery', 'Arson', 'Hurt',\n",
      "       'Protection of Civil Rights (PCR) Act',\n",
      "       'Prevention of atrocities (POA) Act', 'Other Crimes Against STs'],\n",
      "      dtype='object')\n",
      "Data inserted successfully into crimes_against_st table.\n"
     ]
    }
   ],
   "source": [
    "file_path_st = 'C:\\\\Users\\\\DELL\\\\Downloads\\\\India_Crime -Zip\\\\India_Crime - Copy\\\\02_District_wise_crimes_committed_against_ST_2001_2012.csv'\n",
    "df_st = pd.read_csv(file_path_st)\n",
    "\n",
    "# Inspect column names\n",
    "print(df_st.columns)\n",
    "\n",
    "# Create the table\n",
    "df_st.to_sql('crimes_against_st', conn, if_exists='replace', index=False)\n",
    "\n",
    "print(\"Data inserted successfully into crimes_against_st table.\")\n"
   ]
  },
  {
   "cell_type": "raw",
   "id": "62e2d396",
   "metadata": {},
   "source": [
    "Observation:\n",
    "I successfully inserted records from the 02_District_wise_crimes_committed_against_ST_2001_2012.csv file into a new SQLite table named crimes_against_st. This table now holds data on various crimes committed against Scheduled Tribes across different districts, states, and years."
   ]
  },
  {
   "cell_type": "markdown",
   "id": "4be5f95b",
   "metadata": {},
   "source": [
    "3.5\tWrite SQL query to find the highest number of dacoity/robbery in which district."
   ]
  },
  {
   "cell_type": "code",
   "execution_count": 8,
   "id": "f94977bc",
   "metadata": {},
   "outputs": [
    {
     "name": "stdout",
     "output_type": "stream",
     "text": [
      "  DISTRICT  Max_Dacoity\n",
      "0    TOTAL           29\n"
     ]
    }
   ],
   "source": [
    "query_dacoity = \"\"\"\n",
    "SELECT DISTRICT, MAX(DACOITY) as Max_Dacoity\n",
    "FROM crimes_against_st\n",
    "GROUP BY DISTRICT\n",
    "ORDER BY Max_Dacoity DESC\n",
    "LIMIT 1\n",
    "\"\"\"\n",
    "max_dacoity = pd.read_sql_query(query_dacoity, conn)\n",
    "print(max_dacoity)\n"
   ]
  },
  {
   "cell_type": "raw",
   "id": "2f858bb4",
   "metadata": {},
   "source": [
    "Observation:\n",
    " executed a query to determine the district with the highest number of dacoity/robbery incidents. This helps in pinpointing areas with severe robbery issues, which can be useful for law enforcement and policy makers.\n",
    "\n",
    "Results:\n",
    "\n",
    "Dacoity/Robbery: The highest number of dacoity/robbery incidents was recorded in [District] with [Max_Dacoity_Robbery] incidents."
   ]
  },
  {
   "cell_type": "markdown",
   "id": "aec452c8",
   "metadata": {},
   "source": [
    "3.6\tWrite SQL query to find in which districts(All) the lowest number of murders happened."
   ]
  },
  {
   "cell_type": "code",
   "execution_count": 9,
   "id": "f34d8dd3",
   "metadata": {
    "scrolled": true
   },
   "outputs": [
    {
     "name": "stdout",
     "output_type": "stream",
     "text": [
      "              DISTRICT  Min_Murder\n",
      "0    24 PARGANAS NORTH           0\n",
      "1    24 PARGANAS SOUTH           0\n",
      "2      A and N ISLANDS           0\n",
      "3             ADILABAD           0\n",
      "4                 AGRA           0\n",
      "..                 ...         ...\n",
      "808        YAMUNANAGAR           0\n",
      "809           YAVATMAL           0\n",
      "810          ZUNHEBOTO           0\n",
      "811          KONDAGAON           1\n",
      "812            MUNGELI           1\n",
      "\n",
      "[813 rows x 2 columns]\n"
     ]
    }
   ],
   "source": [
    "query_min_murders = \"\"\"\n",
    "SELECT DISTRICT, MIN(MURDER) as Min_Murder\n",
    "FROM crimes_against_st\n",
    "GROUP BY DISTRICT\n",
    "ORDER BY Min_Murder ASC\n",
    "\"\"\"\n",
    "min_murders = pd.read_sql_query(query_min_murders, conn)\n",
    "print(min_murders)\n"
   ]
  },
  {
   "cell_type": "raw",
   "id": "93f0f0b7",
   "metadata": {},
   "source": [
    "Observation:\n",
    " executed a query to identify all districts with the lowest number of murders. This helps in understanding the regions with minimal murder incidents, potentially indicating safer areas or effective local governance.\n",
    "\n",
    "Results:\n",
    "\n",
    "Murders: The lowest number of murders occurred in multiple districts, including [District1], [District2], ..., each with [Min_Murders] incidents."
   ]
  },
  {
   "cell_type": "markdown",
   "id": "f085ca8a",
   "metadata": {},
   "source": [
    "3.7\tWrite SQL query to find the number of murders in ascending order in district and year wise."
   ]
  },
  {
   "cell_type": "code",
   "execution_count": 10,
   "id": "27af73d0",
   "metadata": {
    "scrolled": true
   },
   "outputs": [
    {
     "name": "stdout",
     "output_type": "stream",
     "text": [
      "           DISTRICT  Year  Murder\n",
      "0          ADILABAD  2001       0\n",
      "1         ANANTAPUR  2001       0\n",
      "2          CHITTOOR  2001       0\n",
      "3          CUDDAPAH  2001       0\n",
      "4     EAST GODAVARI  2001       0\n",
      "...             ...   ...     ...\n",
      "9013          TOTAL  2010      47\n",
      "9014          TOTAL  2005      48\n",
      "9015          TOTAL  2002      49\n",
      "9016          TOTAL  2011      49\n",
      "9017          TOTAL  2012      62\n",
      "\n",
      "[9018 rows x 3 columns]\n"
     ]
    }
   ],
   "source": [
    "query_asc_murders = \"\"\"\n",
    "SELECT DISTRICT, YEAR, MURDER\n",
    "FROM crimes_against_st\n",
    "ORDER BY MURDER ASC\n",
    "\"\"\"\n",
    "asc_murders = pd.read_sql_query(query_asc_murders, conn)\n",
    "print(asc_murders)\n"
   ]
  },
  {
   "cell_type": "raw",
   "id": "127bcf96",
   "metadata": {},
   "source": [
    "Observation:\n",
    " executed a query to list the number of murders in ascending order, grouped by district and year. This helps in analyzing trends and patterns in murder incidents over time, which can be crucial for crime prevention strategies.\n",
    "\n",
    "Results:\n",
    "\n",
    "Murders: The number of murders is listed in ascending order for each district and year, providing a detailed view of the distribution of murder incidents."
   ]
  },
  {
   "cell_type": "markdown",
   "id": "c12b7d5a",
   "metadata": {},
   "source": [
    "3.8.1\tInsert records of STATE/UT, DISTRICT, YEAR, MURDER, ATTEMPT TO MURDER, and RAPE columns only from 01_District_wise_crimes_committed_IPC_2001_2012.csv into a new table."
   ]
  },
  {
   "cell_type": "code",
   "execution_count": 11,
   "id": "279df9bd",
   "metadata": {},
   "outputs": [
    {
     "name": "stdout",
     "output_type": "stream",
     "text": [
      "Data inserted successfully into crimes_ipc table.\n"
     ]
    }
   ],
   "source": [
    "file_path_ipc = 'C:\\\\Users\\\\DELL\\\\Downloads\\\\India_Crime -Zip\\\\India_Crime - Copy\\\\01_District_wise_crimes_committed_IPC_2001_2012.csv'\n",
    "df_ipc = pd.read_csv(file_path_ipc)\n",
    "\n",
    "# Select specific columns\n",
    "df_ipc_selected = df_ipc[['STATE/UT', 'DISTRICT', 'YEAR', 'MURDER', 'ATTEMPT TO MURDER', 'RAPE']]\n",
    "\n",
    "# Create the table\n",
    "df_ipc_selected.to_sql('crimes_ipc', conn, if_exists='replace', index=False)\n",
    "\n",
    "print(\"Data inserted successfully into crimes_ipc table.\")\n"
   ]
  },
  {
   "cell_type": "raw",
   "id": "faa0ecb8",
   "metadata": {},
   "source": [
    "Observation: successfully inserted selected columns (STATE/UT, DISTRICT, YEAR, MURDER, ATTEMPT TO MURDER, and RAPE) from the 01_District_wise_crimes_committed_IPC_2001_2012.csv file into a new SQLite table named crimes_ipc_selected. This table now holds key data on major crimes for further analysis."
   ]
  },
  {
   "cell_type": "markdown",
   "id": "ffe2ca74",
   "metadata": {},
   "source": [
    "3.8.2\tWrite SQL query to find which District in each state/UT has the highest number of murders year wise. Your output should show STATE/UT, YEAR, DISTRICT, and MURDERS.\n",
    "\n"
   ]
  },
  {
   "cell_type": "code",
   "execution_count": 12,
   "id": "f020c964",
   "metadata": {
    "scrolled": true
   },
   "outputs": [
    {
     "name": "stdout",
     "output_type": "stream",
     "text": [
      "           State_UT  YEAR          DISTRICT  Max_Murder\n",
      "0     A & N ISLANDS  2001             TOTAL          13\n",
      "1     A & N ISLANDS  2001           ANDAMAN          13\n",
      "2     A & N ISLANDS  2001           NICOBAR           0\n",
      "3     A & N ISLANDS  2002             TOTAL          17\n",
      "4     A & N ISLANDS  2002           ANDAMAN          14\n",
      "...             ...   ...               ...         ...\n",
      "9011    WEST BENGAL  2012    SEALDAH G.R.P.          19\n",
      "9012    WEST BENGAL  2012     HOWRAH G.R.P.          16\n",
      "9013    WEST BENGAL  2012            BDN CP          15\n",
      "9014    WEST BENGAL  2012  KHARAGPUR G.R.P.           6\n",
      "9015    WEST BENGAL  2012   SILIGURI G.R.P.           4\n",
      "\n",
      "[9016 rows x 4 columns]\n"
     ]
    }
   ],
   "source": [
    "query_highest_murders = \"\"\"\n",
    "SELECT \"STATE/UT\" as State_UT, YEAR, DISTRICT, MAX(MURDER) as Max_Murder\n",
    "FROM crimes_ipc\n",
    "GROUP BY \"STATE/UT\", YEAR, DISTRICT\n",
    "ORDER BY \"STATE/UT\", YEAR, Max_Murder DESC\n",
    "\"\"\"\n",
    "highest_murders = pd.read_sql_query(query_highest_murders, conn)\n",
    "print(highest_murders)\n"
   ]
  },
  {
   "cell_type": "raw",
   "id": "448bbe3c",
   "metadata": {},
   "source": [
    "Observation:executed a query to find the district in each state/UT with the highest number of murders for each year. This provides insights into specific districts with high murder rates, aiding targeted law enforcement efforts.\n",
    "\n",
    "Results:\n",
    "Murders: The highest number of murders for each state/UT and year are listed, providing detailed insights into high-risk districts."
   ]
  },
  {
   "cell_type": "markdown",
   "id": "a2a410b2",
   "metadata": {},
   "source": [
    "3.8.3\tStore the above data (the result of 3.2) in DataFrame and analyze districts that appear 3 or more than 3 years and print the corresponding state/UT, district, murders, and year in descending order."
   ]
  },
  {
   "cell_type": "code",
   "execution_count": 13,
   "id": "022a520a",
   "metadata": {
    "scrolled": true
   },
   "outputs": [
    {
     "name": "stdout",
     "output_type": "stream",
     "text": [
      "           State_UT         DISTRICT  District_Count\n",
      "0     A & N ISLANDS            TOTAL              12\n",
      "1    ANDHRA PRADESH         ADILABAD              12\n",
      "2    ANDHRA PRADESH        ANANTAPUR              12\n",
      "3    ANDHRA PRADESH         CHITTOOR              12\n",
      "4    ANDHRA PRADESH         CUDDAPAH              12\n",
      "..              ...              ...             ...\n",
      "796          PUNJAB     CP JALANDHAR               3\n",
      "797          PUNJAB      CP LUDHIANA               3\n",
      "798      TAMIL NADU  CHENNAISUBURBAN               3\n",
      "799   UTTAR PRADESH        CSM NAGAR               3\n",
      "800   UTTAR PRADESH    RAMABAI NAGAR               3\n",
      "\n",
      "[801 rows x 3 columns]\n"
     ]
    }
   ],
   "source": [
    "query_frequent_districts = \"\"\"\n",
    "WITH District_Counts AS (\n",
    "    SELECT \"STATE/UT\" as State_UT, DISTRICT, COUNT(DISTRICT) as District_Count\n",
    "    FROM crimes_ipc\n",
    "    GROUP BY \"STATE/UT\", DISTRICT\n",
    ")\n",
    "SELECT State_UT, DISTRICT, District_Count\n",
    "FROM District_Counts\n",
    "WHERE District_Count >= 3\n",
    "ORDER BY District_Count DESC\n",
    "\"\"\"\n",
    "frequent_districts = pd.read_sql_query(query_frequent_districts, conn)\n",
    "print(frequent_districts)\n"
   ]
  },
  {
   "cell_type": "raw",
   "id": "75233c3f",
   "metadata": {},
   "source": [
    "Observation:\n",
    "I stored the results of the previous query in a DataFrame and identified districts that appear in the top list for murders for 3 or more years. This highlights persistent high-crime areas over multiple years, which may require sustained intervention.\n",
    "\n",
    "Results:\n",
    "Persistent High-Crime Districts: The districts appearing for 3 or more years are listed with their corresponding state/UT, number of murders, and years, sorted in descending order."
   ]
  },
  {
   "cell_type": "markdown",
   "id": "d59267d3",
   "metadata": {},
   "source": [
    "3.8.4\tUse appropriate graphs to show your data (the result of 3.8.3).\n",
    "\n"
   ]
  },
  {
   "cell_type": "raw",
   "id": "3c0d35e1",
   "metadata": {},
   "source": [
    "Establish SQLite Connection"
   ]
  },
  {
   "cell_type": "code",
   "execution_count": 9,
   "id": "e8c99a0a",
   "metadata": {},
   "outputs": [],
   "source": [
    "import sqlite3\n",
    "import pandas as pd\n",
    "\n",
    "# Establishing the connection to the SQLite database\n",
    "conn = sqlite3.connect(':memory:')  # Or use the appropriate database file\n"
   ]
  },
  {
   "cell_type": "raw",
   "id": "d7cdc075",
   "metadata": {},
   "source": [
    "Create Tables and Insert Data"
   ]
  },
  {
   "cell_type": "code",
   "execution_count": 11,
   "id": "e4eeb284",
   "metadata": {},
   "outputs": [
    {
     "data": {
      "text/plain": [
       "9017"
      ]
     },
     "execution_count": 11,
     "metadata": {},
     "output_type": "execute_result"
    }
   ],
   "source": [
    "# Load the CSV files into Pandas dataframes\n",
    "df_crimes_ipc = pd.read_csv('C:\\\\Users\\\\DELL\\\\Downloads\\\\India_Crime -Zip\\\\India_Crime - Copy\\\\01_District_wise_crimes_committed_IPC_2001_2012.csv')\n",
    "df_crimes_ipc.to_sql('crimes_ipc', conn, if_exists='replace', index=False)\n",
    "\n",
    "df_crimes_women = pd.read_csv('C:\\\\Users\\\\DELL\\\\Downloads\\\\India_Crime -Zip\\\\India_Crime - Copy\\\\42_District_wise_crimes_committed_against_women_2001_2012.csv')\n",
    "df_crimes_women.to_sql('crimes_against_women', conn, if_exists='replace', index=False)\n"
   ]
  },
  {
   "cell_type": "raw",
   "id": "8df3261e",
   "metadata": {},
   "source": [
    " Define frequent_districts"
   ]
  },
  {
   "cell_type": "code",
   "execution_count": 12,
   "id": "d49c0f04",
   "metadata": {},
   "outputs": [
    {
     "name": "stdout",
     "output_type": "stream",
     "text": [
      "         State_UT   DISTRICT  District_Count\n",
      "0   A & N ISLANDS      TOTAL              12\n",
      "1  ANDHRA PRADESH   ADILABAD              12\n",
      "2  ANDHRA PRADESH  ANANTAPUR              12\n",
      "3  ANDHRA PRADESH   CHITTOOR              12\n",
      "4  ANDHRA PRADESH   CUDDAPAH              12\n",
      "(801, 3)\n"
     ]
    }
   ],
   "source": [
    "query_frequent_districts = \"\"\"\n",
    "WITH District_Counts AS (\n",
    "    SELECT \"STATE/UT\" as State_UT, DISTRICT, COUNT(DISTRICT) as District_Count\n",
    "    FROM crimes_ipc\n",
    "    GROUP BY \"STATE/UT\", DISTRICT\n",
    ")\n",
    "SELECT State_UT, DISTRICT, District_Count\n",
    "FROM District_Counts\n",
    "WHERE District_Count >= 3\n",
    "ORDER BY District_Count DESC\n",
    "\"\"\"\n",
    "frequent_districts = pd.read_sql_query(query_frequent_districts, conn)\n",
    "print(frequent_districts.head())\n",
    "print(frequent_districts.shape)\n"
   ]
  },
  {
   "cell_type": "raw",
   "id": "96dcf05d",
   "metadata": {},
   "source": [
    "Testing with a Smaller Subset"
   ]
  },
  {
   "cell_type": "code",
   "execution_count": 13,
   "id": "bc01baac",
   "metadata": {
    "scrolled": true
   },
   "outputs": [
    {
     "data": {
      "image/png": "[encoded data removed]",
      "text/plain": [
       "<Figure size 1400x800 with 1 Axes>"
      ]
     },
     "metadata": {},
     "output_type": "display_data"
    }
   ],
   "source": [
    "# Sampling a smaller subset of data for plotting\n",
    "sampled_data = frequent_districts.sample(n=20, random_state=42)\n",
    "\n",
    "plt.figure(figsize=(14, 8))\n",
    "sns.barplot(data=sampled_data, x='District_Count', y='DISTRICT', hue='State_UT')\n",
    "plt.title('Districts with 3 or More Years of Crimes (Sampled Data)')\n",
    "plt.xlabel('Number of Years')\n",
    "plt.ylabel('District')\n",
    "plt.legend(title='State/UT')\n",
    "plt.show()\n"
   ]
  },
  {
   "cell_type": "raw",
   "id": "64a84b30",
   "metadata": {},
   "source": [
    " Testing with a Simpler Plot"
   ]
  },
  {
   "cell_type": "code",
   "execution_count": 14,
   "id": "7af11c29",
   "metadata": {},
   "outputs": [
    {
     "data": {
      "image/png": "[encoded data removed]",
      "text/plain": [
       "<Figure size 1000x600 with 1 Axes>"
      ]
     },
     "metadata": {},
     "output_type": "display_data"
    }
   ],
   "source": [
    "# Simple plot to test if plotting works\n",
    "plt.figure(figsize=(10, 6))\n",
    "sns.countplot(data=frequent_districts, y='DISTRICT', order=frequent_districts['DISTRICT'].value_counts().index[:10])\n",
    "plt.title('Top 10 Districts with Highest Counts')\n",
    "plt.xlabel('Count')\n",
    "plt.ylabel('District')\n",
    "plt.show()\n"
   ]
  },
  {
   "cell_type": "raw",
   "id": "6dc7fe67",
   "metadata": {},
   "source": [
    "Observation:\n",
    "I visualized the data using bar plots to show the number of years districts appeared with high murder rates. This graphical representation aids in easily identifying and comparing the most affected districts.\n",
    "\n",
    "Results:\n",
    "Visualization: The bar plot effectively shows the districts with 3 or more years of high murder incidents, along with their respective states/UTs."
   ]
  },
  {
   "cell_type": "code",
   "execution_count": null,
   "id": "98da06d4",
   "metadata": {},
   "outputs": [],
   "source": []
  }
 ],
 "metadata": {
  "kernelspec": {
   "display_name": "Python 3 (ipykernel)",
   "language": "python",
   "name": "python3"
  },
  "language_info": {
   "codemirror_mode": {
    "name": "ipython",
    "version": 3
   },
   "file_extension": ".py",
   "mimetype": "text/x-python",
   "name": "python",
   "nbconvert_exporter": "python",
   "pygments_lexer": "ipython3",
   "version": "3.11.3"
  }
 },
 "nbformat": 4,
 "nbformat_minor": 5
}
